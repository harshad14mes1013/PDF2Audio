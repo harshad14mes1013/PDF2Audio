{
  "nbformat": 4,
  "nbformat_minor": 0,
  "metadata": {
    "colab": {
      "name": "AudioBook.ipynb",
      "provenance": []
    },
    "kernelspec": {
      "name": "python3",
      "display_name": "Python 3"
    }
  },
  "cells": [
    {
      "cell_type": "code",
      "metadata": {
        "id": "sw4u0hnl08FT",
        "colab_type": "code",
        "colab": {}
      },
      "source": [
        "# Code to read csv file into colaboratory:\n",
        "!pip install -U -q PyDrive\n",
        "from pydrive.auth import GoogleAuth\n",
        "from pydrive.drive import GoogleDrive\n",
        "from google.colab import auth\n",
        "from oauth2client.client import GoogleCredentials"
      ],
      "execution_count": 4,
      "outputs": []
    },
    {
      "cell_type": "code",
      "metadata": {
        "id": "jCLLfC_r3RJu",
        "colab_type": "code",
        "colab": {}
      },
      "source": [
        "auth.authenticate_user()\n",
        "gauth = GoogleAuth()\n",
        "gauth.credentials = GoogleCredentials.get_application_default()\n",
        "drive = GoogleDrive(gauth)"
      ],
      "execution_count": 35,
      "outputs": []
    },
    {
      "cell_type": "code",
      "metadata": {
        "id": "Y9WBWtcY4Qhq",
        "colab_type": "code",
        "colab": {}
      },
      "source": [
        "#STEP-3: Get File from Drive using file-ID\n",
        "\n",
        "#2.1 Get the filehttps://drive.google.com/file/d/1tvqPXFaHfNRJqnFdrfIXqrY2KZ3XBmRX/view?usp=sharing\n",
        "downloaded = drive.CreateFile({'id':'1aKS3M926ShjzrtkV6_5W0rK_vqi1_pBr'})\n",
        "downloaded.GetContentFile('Intro.pdf') "
      ],
      "execution_count": 36,
      "outputs": []
    },
    {
      "cell_type": "code",
      "metadata": {
        "id": "kZEseLxX6jVV",
        "colab_type": "code",
        "colab": {
          "base_uri": "https://localhost:8080/",
          "height": 564
        },
        "outputId": "e3526d2c-fec4-4fa7-f9c5-b17217b29c25"
      },
      "source": [
        "!pip install gTTs\n",
        "\n",
        "import PyPDF2\n",
        "from gtts import gTTS\n",
        "\n",
        "pdfFileObj = open('Intro.pdf', \"rb\")\n",
        "pdfReader = PyPDF2.PdfFileReader(pdfFileObj)\n",
        "\n",
        "mytext = \"\"\n",
        "\n",
        "for pageNum in range(pdfReader.numPages):\n",
        "    pageObj = pdfReader.getPage(pageNum)\n",
        "\n",
        "    mytext += pageObj.extractText()\n",
        "print(mytext)\n",
        "pdfFileObj.close()\n",
        "\n",
        "tts = gTTS(text=mytext, lang='en')\n",
        "tts.save(\"story.mp3\")\n",
        "print('PDF to mp3 done:')"
      ],
      "execution_count": 42,
      "outputs": [
        {
          "output_type": "stream",
          "text": [
            "Requirement already satisfied: gTTs in /usr/local/lib/python3.6/dist-packages (2.1.1)\n",
            "Requirement already satisfied: click in /usr/local/lib/python3.6/dist-packages (from gTTs) (7.1.2)\n",
            "Requirement already satisfied: beautifulsoup4 in /usr/local/lib/python3.6/dist-packages (from gTTs) (4.6.3)\n",
            "Requirement already satisfied: six in /usr/local/lib/python3.6/dist-packages (from gTTs) (1.15.0)\n",
            "Requirement already satisfied: requests in /usr/local/lib/python3.6/dist-packages (from gTTs) (2.23.0)\n",
            "Requirement already satisfied: gtts-token>=1.1.3 in /usr/local/lib/python3.6/dist-packages (from gTTs) (1.1.3)\n",
            "Requirement already satisfied: idna<3,>=2.5 in /usr/local/lib/python3.6/dist-packages (from requests->gTTs) (2.10)\n",
            "Requirement already satisfied: urllib3!=1.25.0,!=1.25.1,<1.26,>=1.21.1 in /usr/local/lib/python3.6/dist-packages (from requests->gTTs) (1.24.3)\n",
            "Requirement already satisfied: certifi>=2017.4.17 in /usr/local/lib/python3.6/dist-packages (from requests->gTTs) (2020.6.20)\n",
            "Requirement already satisfied: chardet<4,>=3.0.2 in /usr/local/lib/python3.6/dist-packages (from requests->gTTs) (3.0.4)\n",
            "Hello \n",
            " \n",
            "My Name is Harshad.\n",
            " \n",
            "This programs I have created convert PDF to audio.\n",
            " \n",
            "This is my first p\n",
            "r\n",
            "oject o\n",
            "n google colab.\n",
            " \n",
            "For source code please check comment \n",
            "Github link.\n",
            " \n",
            "Good luck.\n",
            " \n",
            "Have a nice day.\n",
            " \n",
            " \n",
            "\n",
            "PDF to mp3 done:\n"
          ],
          "name": "stdout"
        }
      ]
    },
    {
      "cell_type": "code",
      "metadata": {
        "id": "CDfL5H0X7e0-",
        "colab_type": "code",
        "colab": {}
      },
      "source": [
        ""
      ],
      "execution_count": null,
      "outputs": []
    }
  ]
}